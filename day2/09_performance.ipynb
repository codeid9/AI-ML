{
 "cells": [
  {
   "cell_type": "code",
   "execution_count": 4,
   "id": "943b6a44",
   "metadata": {},
   "outputs": [],
   "source": [
    "import numpy as np\n",
    "# Example: vectorized vs loop\n",
    "arr = np.arange(1e6)\n",
    "\n",
    "# Fast\n",
    "result = arr * 2\n",
    "\n"
   ]
  },
  {
   "cell_type": "code",
   "execution_count": 5,
   "id": "66d00e84",
   "metadata": {},
   "outputs": [],
   "source": [
    "# Slow\n",
    "result = []\n",
    "for x in arr:\n",
    "    result.append(x * 2)"
   ]
  },
  {
   "cell_type": "code",
   "execution_count": null,
   "id": "11321391",
   "metadata": {},
   "outputs": [],
   "source": []
  }
 ],
 "metadata": {
  "kernelspec": {
   "display_name": "Python 3",
   "language": "python",
   "name": "python3"
  },
  "language_info": {
   "codemirror_mode": {
    "name": "ipython",
    "version": 3
   },
   "file_extension": ".py",
   "mimetype": "text/x-python",
   "name": "python",
   "nbconvert_exporter": "python",
   "pygments_lexer": "ipython3",
   "version": "3.11.3"
  }
 },
 "nbformat": 4,
 "nbformat_minor": 5
}
